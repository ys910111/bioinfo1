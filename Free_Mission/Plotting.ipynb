{
 "cells": [
  {
   "cell_type": "code",
   "execution_count": null,
   "metadata": {},
   "outputs": [],
   "source": [
    "import pickle\n",
    "import matplotlib.pyplot as plt\n",
    "from sklearn.ensemble import RandomForestClassifier\n",
    "from mycolorpy import colorlist as mcp\n",
    "import pandas as pd\n",
    "from sklearn import model_selection\n",
    "import numpy as np"
   ]
  },
  {
   "cell_type": "code",
   "execution_count": null,
   "metadata": {},
   "outputs": [],
   "source": [
    "with open('mlp_results.pkl', 'rb') as f:\n",
    "    mlp_results = pickle.load(f)\n",
    "with open('rf_results.pkl', 'rb') as f:\n",
    "    rf_results = pickle.load(f)\n",
    "with open('lr_results.pkl', 'rb') as f:\n",
    "    lr_results = pickle.load(f)\n",
    "with open('gn_results.pkl', 'rb') as f:\n",
    "    gn_results = pickle.load(f)"
   ]
  },
  {
   "cell_type": "code",
   "execution_count": null,
   "metadata": {},
   "outputs": [],
   "source": [
    "# Plot AUROC curve\n",
    "colors = mcp.gen_color(cmap = 'Set3', n = 4)\n",
    "plt.figure(figsize = (10, 10))\n",
    "plt.plot(lr_results['fpr'], lr_results['tpr'], label = \"Logistic Regression, AUC = \"+str(round(lr_results['roc_auc'], 3)), color = colors[0], linewidth = 3)\n",
    "plt.plot(gn_results['fpr'], gn_results['tpr'], label = \"Gaussian Naive Bayes, AUC = \"+str(round(gn_results['roc_auc'], 3)), color = colors[1], linewidth = 3)\n",
    "plt.plot(rf_results['fpr'], rf_results['tpr'], label = \"Random Forest Classifier, AUC = \"+str(round(rf_results['roc_auc'], 3)), color = colors[2], linewidth = 3)\n",
    "plt.plot(mlp_results['fpr'], mlp_results['tpr'], label = \"Multi-layer Perceptron, AUC = \"+str(round(mlp_results['roc_auc'], 3)), color = colors[3], linewidth = 3)\n",
    "plt.legend(loc = 'lower right', fontsize = 15)"
   ]
  },
  {
   "cell_type": "code",
   "execution_count": null,
   "metadata": {},
   "outputs": [],
   "source": [
    "# Barplot (Accuracy, F1-score)\n",
    "fig, ax = plt.subplots(1, 2, figsize = (20, 10))\n",
    "acc = [lr_results['acc'], gn_results['acc'], rf_results['acc'], mlp_results['acc']]\n",
    "f1 = [lr_results['f1'][0], gn_results['f1'][0], rf_results['f1'][0], mlp_results['f1'][0]]\n",
    "x = ['Logistic Regression', 'Gaussian Naive Bayes', 'Random Forest Classifier', 'Multi-layer Perceptron']\n",
    "ax[0].bar(x, acc, color = colors)\n",
    "ax[0].xaxis.set_tick_params(labelsize = 10)\n",
    "for i in range(len(acc)):\n",
    "        ax[0].text(i, acc[i] + 0.005, round(acc[i], 3), ha = 'center', fontsize = 13)\n",
    "ax[0].set_ylim(0, 1)\n",
    "ax[0].set_xlabel('Model', fontsize = 15)\n",
    "ax[0].set_ylabel('Accuracy', fontsize = 15)\n",
    "\n",
    "ax[1].bar(x, f1, color = colors)\n",
    "ax[1].xaxis.set_tick_params(labelsize = 10)\n",
    "for i in range(len(acc)):\n",
    "        ax[1].text(i, f1[i] + 0.005, round(f1[i], 3), ha = 'center', fontsize = 13)\n",
    "ax[1].set_ylim(0, 1)\n",
    "ax[1].set_xlabel('Model', fontsize = 15)\n",
    "ax[1].set_ylabel('F1 score', fontsize = 15)\n",
    "\n",
    "plt.show()"
   ]
  },
  {
   "cell_type": "code",
   "execution_count": null,
   "metadata": {},
   "outputs": [],
   "source": [
    "total_df = pd.read_csv('total_sequences.csv', index_col = 0)"
   ]
  },
  {
   "cell_type": "code",
   "execution_count": null,
   "metadata": {},
   "outputs": [],
   "source": [
    "# Split train and test\n",
    "total_train, total_test = model_selection.train_test_split(total_df, test_size = 0.3, stratify = total_df['label'], random_state = 1)"
   ]
  },
  {
   "cell_type": "code",
   "execution_count": null,
   "metadata": {},
   "outputs": [],
   "source": [
    "# Split data and label\n",
    "X_train, y_train = total_train.iloc[:, :-1], total_train.iloc[:, -1]\n",
    "X_test, y_test = total_test.iloc[:, :-1], total_test.iloc[:, -1]"
   ]
  },
  {
   "cell_type": "code",
   "execution_count": null,
   "metadata": {},
   "outputs": [],
   "source": [
    "# Split data and label\n",
    "X_train, y_train = total_train.iloc[:, :-1], total_train.iloc[:, -1]\n",
    "X_test, y_test = total_test.iloc[:, :-1], total_test.iloc[:, -1]"
   ]
  },
  {
   "cell_type": "code",
   "execution_count": null,
   "metadata": {},
   "outputs": [],
   "source": [
    "# Feature importance of Random forest\n",
    "rf = RandomForestClassifier(random_state=1, n_jobs = 5, **rf_results['cv_results']['params'][44])\n",
    "rf.fit(X_train, y_train)\n",
    "importances = rf.feature_importances_\n",
    "std = np.std([tree.feature_importances_ for tree in rf.estimators_], axis = 0)"
   ]
  },
  {
   "cell_type": "code",
   "execution_count": null,
   "metadata": {},
   "outputs": [],
   "source": [
    "# Plot feature importance\n",
    "feature_names = range(-10, 11)\n",
    "forest_importances = pd.Series(importances, index=feature_names)\n",
    "fig, ax = plt.subplots(figsize = (10, 7))\n",
    "forest_importances.plot.bar(yerr=std, ax=ax)\n",
    "\n",
    "for i in range(len(feature_names)):\n",
    "        ax.text(i, forest_importances[feature_names[i]] + std[i] + 0.005, round(forest_importances[feature_names[i]], 2), ha = 'center', fontsize = 13)\n",
    "    \n",
    "ax.set_title(\"Feature importances using MDI\", fontsize = 15)\n",
    "ax.set_xlabel(\"Distance from Crosslinked base\", fontsize = 15)\n",
    "ax.set_ylabel(\"Mean decrease in impurity\", fontsize = 15)\n",
    "fig.tight_layout()"
   ]
  }
 ],
 "metadata": {
  "kernelspec": {
   "display_name": "Python 3.9.13 64-bit",
   "language": "python",
   "name": "python3"
  },
  "language_info": {
   "name": "python",
   "version": "3.9.13"
  },
  "orig_nbformat": 4,
  "vscode": {
   "interpreter": {
    "hash": "f9f85f796d01129d0dd105a088854619f454435301f6ffec2fea96ecbd9be4ac"
   }
  }
 },
 "nbformat": 4,
 "nbformat_minor": 2
}
