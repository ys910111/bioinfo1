{
 "cells": [
  {
   "cell_type": "code",
   "execution_count": null,
   "metadata": {},
   "outputs": [],
   "source": [
    "import pandas as pd\n",
    "from sklearn import model_selection\n",
    "from sklearn.model_selection import GridSearchCV\n",
    "from sklearn.metrics import * \n",
    "from sklearn.neural_network import MLPClassifier\n",
    "from sklearn.linear_model import LogisticRegression\n",
    "from sklearn.naive_bayes import GaussianNB\n",
    "from sklearn.ensemble import RandomForestClassifier\n",
    "import pickle"
   ]
  },
  {
   "cell_type": "code",
   "execution_count": null,
   "metadata": {},
   "outputs": [],
   "source": [
    "total_df = pd.read_csv('total_sequences.csv', index_col = 0)"
   ]
  },
  {
   "cell_type": "code",
   "execution_count": null,
   "metadata": {},
   "outputs": [],
   "source": [
    "# Split train and test\n",
    "total_train, total_test = model_selection.train_test_split(total_df, test_size = 0.3, stratify = total_df['label'], random_state = 1)"
   ]
  },
  {
   "cell_type": "code",
   "execution_count": null,
   "metadata": {},
   "outputs": [],
   "source": [
    "# Split data and label\n",
    "X_train, y_train = total_train.iloc[:, :-1], total_train.iloc[:, -1]\n",
    "X_test, y_test = total_test.iloc[:, :-1], total_test.iloc[:, -1]"
   ]
  },
  {
   "cell_type": "code",
   "execution_count": null,
   "metadata": {},
   "outputs": [],
   "source": [
    "# Function of model fitting, GridSearchCV, and evaluation\n",
    "def model_fit(model, params, X_train, y_train, X_test, y_test):\n",
    "    gs = GridSearchCV(model, params, cv=5, n_jobs=50)\n",
    "    gs.fit(X_train, y_train)\n",
    "    tmp = pd.DataFrame(gs.cv_results_)\n",
    "    best_params = gs.best_params_\n",
    "    cv_results = tmp[['params', 'mean_test_score', 'std_test_score']][tmp['params'] == best_params]\n",
    "    model.set_params(**best_params)\n",
    "    model.fit(X_train, y_train)\n",
    "    y_prob = model.predict_proba(X_test)\n",
    "    y_pred = model.predict(X_test)\n",
    "    acc = accuracy_score(y_test, y_pred)\n",
    "    f1 = f1_score(y_test, y_pred),\n",
    "    fpr, tpr, thr = roc_curve(y_test, y_prob[:, 1])\n",
    "    roc_auc = auc(fpr, tpr)\n",
    "\n",
    "    return {'cv_results': cv_results, 'acc': acc, 'f1': f1, 'fpr': fpr, 'tpr': tpr, 'thr': thr, 'roc_auc': roc_auc}"
   ]
  },
  {
   "cell_type": "code",
   "execution_count": null,
   "metadata": {},
   "outputs": [],
   "source": [
    "# 1. Logistic regression\n",
    "clf = LogisticRegression(random_state=1)\n",
    "params = {\n",
    "    'C': [0.1, 1, 10, 100],\n",
    "    'penalty': ['l1', 'l2', 'elasticnet'],\n",
    "    'solver': ['liblinear', 'saga']\n",
    "}\n",
    "lr_results = model_fit(clf, params, X_train, y_train, X_test, y_test)\n",
    "with open('lr_results.pkl', 'wb') as f:\n",
    "    pickle.dump(lr_results, f)"
   ]
  },
  {
   "cell_type": "code",
   "execution_count": null,
   "metadata": {},
   "outputs": [],
   "source": [
    "# 2. Gaussian Naive Bayes\n",
    "clf = GaussianNB()\n",
    "params = {\n",
    "    'var_smoothing': [1e-09, 1e-08, 1e-07, 1e-06]\n",
    "}\n",
    "gn_results = model_fit(clf, params, X_train, y_train, X_test, y_test)\n",
    "with open('gn_results.pkl', 'wb') as f:\n",
    "    pickle.dump(gn_results, f)"
   ]
  },
  {
   "cell_type": "code",
   "execution_count": null,
   "metadata": {},
   "outputs": [],
   "source": [
    "# 3. Random Forest\n",
    "clf = RandomForestClassifier(random_state = 1, n_jobs = 3)\n",
    "params = { \n",
    "    'n_estimators': [20, 60, 100],\n",
    "    'max_features': ['sqrt', 'log2'],\n",
    "    'max_depth' : [2, 4, 6, 8],\n",
    "    'criterion' : ['gini', 'entropy', 'log_loss']\n",
    "}\n",
    "rf_results = model_fit(clf, params, X_train, y_train, X_test, y_test)\n",
    "with open('rf_results.pkl', 'wb') as f:\n",
    "    pickle.dump(rf_results, f)"
   ]
  },
  {
   "cell_type": "code",
   "execution_count": null,
   "metadata": {},
   "outputs": [],
   "source": [
    "# 4. Multi-Layer Perceptron\n",
    "clf = MLPClassifier(random_state=1, max_iter = 300)\n",
    "params = {\n",
    "    'hidden_layer_sizes': [(i, 2) for i in range(1, 10, 3)],\n",
    "    'learning_rate': ['constant', 'invscaling', 'adaptive'],\n",
    "    'alpha': [0.0001, 0.001, 0.005],\n",
    "    'solver': ['lbfgs', 'sgd', 'adam']\n",
    "}\n",
    "mlp_results = model_fit(clf, params, X_train, y_train, X_test, y_test)\n",
    "with open('mlp_results.pkl', 'wb') as f:\n",
    "    pickle.dump(mlp_results, f)"
   ]
  }
 ],
 "metadata": {
  "kernelspec": {
   "display_name": "Python 3.9.13 64-bit",
   "language": "python",
   "name": "python3"
  },
  "language_info": {
   "name": "python",
   "version": "3.9.13"
  },
  "orig_nbformat": 4,
  "vscode": {
   "interpreter": {
    "hash": "f9f85f796d01129d0dd105a088854619f454435301f6ffec2fea96ecbd9be4ac"
   }
  }
 },
 "nbformat": 4,
 "nbformat_minor": 2
}
