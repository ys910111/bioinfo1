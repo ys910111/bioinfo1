{
 "cells": [
  {
   "cell_type": "code",
   "execution_count": 4,
   "metadata": {},
   "outputs": [],
   "source": [
    "import pandas as pd\n",
    "import os\n",
    "from Bio import SeqIO\n",
    "import numpy as np\n",
    "import re\n",
    "import sys"
   ]
  },
  {
   "cell_type": "code",
   "execution_count": null,
   "metadata": {},
   "outputs": [],
   "source": [
    "# Supplementary material: Binding site data\n",
    "bind_pos = pd.ExcelFile('S3.xls')\n",
    "bind_pos = bind_pos.parse(0)\n",
    "bind_pos.columns = bind_pos.iloc[0, :]\n",
    "bind_pos = bind_pos.iloc[1:, :]"
   ]
  },
  {
   "cell_type": "code",
   "execution_count": null,
   "metadata": {},
   "outputs": [],
   "source": [
    "# FASTA file\n",
    "## Download mm9 Refseq mRNA fasta file\n",
    "!wget http://hgdownload.soe.ucsc.edu/goldenPath/mm9/bigZips/mrna.fa.gz\n",
    "!gunzip mrna.fa.gz"
   ]
  },
  {
   "cell_type": "code",
   "execution_count": null,
   "metadata": {},
   "outputs": [],
   "source": [
    "## Load fasta file\n",
    "fasta = SeqIO.parse(open('refMrna.fa'),'fasta')\n",
    "fasta_dict = dict()\n",
    "for f in fasta:\n",
    "    fasta_dict[f.id] = str(f.seq)"
   ]
  },
  {
   "cell_type": "code",
   "execution_count": null,
   "metadata": {},
   "outputs": [],
   "source": [
    "# Match binding site data with fasta file\n",
    "bind_pos_1 = bind_pos[bind_pos['Transcript'].isin(fasta_dict.keys())]\n",
    "\n",
    "tmp = list()\n",
    "for i in bind_pos_1.index:\n",
    "    if bind_pos_1.loc[i, 'Position'] > len(fasta_dict[bind_pos_1.loc[i, 'Transcript']]):\n",
    "        tmp.append(['NA', bind_pos_1.loc[i, 'Crosslinked base'], 'NA'])\n",
    "    else : \n",
    "        tmp.append([fasta_dict[bind_pos_1.loc[i, 'Transcript']][bind_pos_1.loc[i, 'Position']].upper(), bind_pos_1.loc[i, 'Crosslinked base'], \n",
    "        fasta_dict[bind_pos_1.loc[i, 'Transcript']][bind_pos_1.loc[i, 'Position']-10:bind_pos_1.loc[i, 'Position']+11].upper()])"
   ]
  },
  {
   "cell_type": "code",
   "execution_count": null,
   "metadata": {},
   "outputs": [],
   "source": [
    "# Make dataframe (Column: Base in fasta, Base in binding site data, 21-mer sequence)\n",
    "tmp_df = pd.DataFrame(tmp)\n",
    "tmp_df"
   ]
  },
  {
   "cell_type": "code",
   "execution_count": null,
   "metadata": {},
   "outputs": [],
   "source": [
    "# Sequences to exclude\n",
    "## Number of position is longer than transcript length in FASTA file, Crosslinked base is different from base in FASTA file\n",
    "print([list(tmp_df[0]).count('NA'), sum([i[0] != i[1] for i in tmp])])"
   ]
  },
  {
   "cell_type": "code",
   "execution_count": null,
   "metadata": {},
   "outputs": [],
   "source": [
    "# Final sequences with length of 21\n",
    "sequences = list(tmp_df.iloc[[i[0] == i[1] for i in tmp], 2])\n",
    "final_seq = [i for i in sequences if len(i) == 21]"
   ]
  },
  {
   "cell_type": "code",
   "execution_count": null,
   "metadata": {},
   "outputs": [],
   "source": [
    "# Save final sequences (T converted to U) -> for WebLogo\n",
    "with open('final_seq_U.txt', 'w') as f:\n",
    "    for i in final_seq:\n",
    "        i_ = i.replace('T', 'U')\n",
    "        f.write(i_ + '\\n')"
   ]
  },
  {
   "cell_type": "code",
   "execution_count": null,
   "metadata": {},
   "outputs": [],
   "source": [
    "# Label encoder\n",
    "def char_to_number(seq):\n",
    "    seq_dict = {'A':0, 'C':1, 'G':2, 'T':3}\n",
    "    return [seq_dict[i] for i in seq]"
   ]
  },
  {
   "cell_type": "code",
   "execution_count": null,
   "metadata": {},
   "outputs": [],
   "source": [
    "# Label encoding final sequences\n",
    "final_seq_df = list()\n",
    "for seq in final_seq:\n",
    "    final_seq_df.append(char_to_number(seq))\n",
    "final_seq_df = pd.DataFrame(final_seq_df)"
   ]
  },
  {
   "cell_type": "code",
   "execution_count": null,
   "metadata": {},
   "outputs": [],
   "source": [
    "# Generate random sequences (expected to be negative control data)\n",
    "random_seq = list()\n",
    "not_in_binding = list(set(fasta_dict.keys()).difference(set(np.unique(bind_pos_1['Transcript']))))\n",
    "random_trans = np.random.choice(not_in_binding, size = len(final_seq))\n",
    "time = 0\n",
    "for i in random_trans:\n",
    "    print(str(time) + ' / ' + str(len(random_trans)))\n",
    "    random_pos = np.random.choice(range(10, len(fasta_dict[i]) - 10), size = 1)\n",
    "    random_seq.append(char_to_number(fasta_dict[i][random_pos[0]-10:random_pos[0]+11].upper()))\n",
    "    time += 1\n",
    "random_seq_df = pd.DataFrame(random_seq)"
   ]
  },
  {
   "cell_type": "code",
   "execution_count": null,
   "metadata": {},
   "outputs": [],
   "source": [
    "# Make total sequences\n",
    "random_seq_df['label'] = np.repeat(0, len(random_seq_df.index))\n",
    "final_seq_df['label'] = np.repeat(1, len(final_seq_df.index))\n",
    "total_df = pd.concat([random_seq_df, final_seq_df])\n",
    "total_df"
   ]
  },
  {
   "cell_type": "code",
   "execution_count": null,
   "metadata": {},
   "outputs": [],
   "source": [
    "# Save total sequences\n",
    "total_df.to_csv('total_sequences.csv')"
   ]
  }
 ],
 "metadata": {
  "kernelspec": {
   "display_name": "Python 3.9.13 64-bit",
   "language": "python",
   "name": "python3"
  },
  "language_info": {
   "codemirror_mode": {
    "name": "ipython",
    "version": 3
   },
   "file_extension": ".py",
   "mimetype": "text/x-python",
   "name": "python",
   "nbconvert_exporter": "python",
   "pygments_lexer": "ipython3",
   "version": "3.9.13"
  },
  "orig_nbformat": 4,
  "vscode": {
   "interpreter": {
    "hash": "f9f85f796d01129d0dd105a088854619f454435301f6ffec2fea96ecbd9be4ac"
   }
  }
 },
 "nbformat": 4,
 "nbformat_minor": 2
}
